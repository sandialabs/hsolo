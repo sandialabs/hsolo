{
 "cells": [
  {
   "cell_type": "markdown",
   "metadata": {},
   "source": [
    "# HSolo Example"
   ]
  },
  {
   "cell_type": "code",
   "execution_count": null,
   "metadata": {},
   "outputs": [],
   "source": [
    "# Import libraries\n",
    "from matplotlib import pyplot as plt\n",
    "import numpy as np\n",
    "import pyhsolo\n",
    "import cv2 as cv\n",
    "import matplotlib.pyplot as plt\n",
    "\n",
    "%load_ext autoreload\n",
    "%autoreload "
   ]
  },
  {
   "cell_type": "code",
   "execution_count": null,
   "metadata": {},
   "outputs": [],
   "source": [
    "# Load input images\n",
    "img1 = cv.imread('example_data/vegas1.jpg', cv.IMREAD_UNCHANGED) # Left image\n",
    "img2 = cv.imread('example_data/vegas2.jpg', cv.IMREAD_UNCHANGED) # Right image"
   ]
  },
  {
   "cell_type": "code",
   "execution_count": null,
   "metadata": {},
   "outputs": [],
   "source": [
    "# Display input images\n",
    "fig, axes = plt.subplots(nrows=1, ncols=2, figsize=(15, 15))\n",
    "\n",
    "axes[0].imshow(img1[...,::-1], cmap='gray')\n",
    "axes[1].imshow(img2[...,::-1], cmap='gray')\n",
    "\n",
    "plt.show()"
   ]
  },
  {
   "cell_type": "markdown",
   "metadata": {},
   "source": [
    "## Use SIFT to get keypoints"
   ]
  },
  {
   "cell_type": "code",
   "execution_count": null,
   "metadata": {},
   "outputs": [],
   "source": [
    "# Initiate SIFT detector\n",
    "sift = cv.SIFT_create(contrastThreshold=0.001)\n",
    "\n",
    "# Find the keypoints and descriptors with SIFT\n",
    "kp1, des1 = sift.detectAndCompute(img1,None)\n",
    "kp2, des2 = sift.detectAndCompute(img2,None)\n",
    "\n",
    "# With this high of a match ratio, inlier rate will be around 4%\n",
    "match_ratio = 0.99\n",
    "\n",
    "# Instantiate KNN Flann matcher\n",
    "FLANN_INDEX_KDTREE = 1\n",
    "index_params = dict(algorithm = FLANN_INDEX_KDTREE, trees = 5)\n",
    "search_params = dict(checks = 20)\n",
    "flann = cv.FlannBasedMatcher(index_params, search_params)\n",
    "\n",
    "# Find keypoint matches\n",
    "matches = flann.knnMatch(des1,des2,k=2)\n",
    "\n",
    "# Store all the good matches as per Lowe's ratio test.\n",
    "good = []\n",
    "for m,n in matches:\n",
    "    if m.distance < match_ratio * n.distance:\n",
    "        good.append(m)\n",
    "print(\"Number of Candidate Matches: \", len(good))"
   ]
  },
  {
   "cell_type": "markdown",
   "metadata": {},
   "source": [
    "## OpenCv Find homography matrix"
   ]
  },
  {
   "cell_type": "code",
   "execution_count": null,
   "metadata": {},
   "outputs": [],
   "source": [
    "# Find homography (OpenCV)\n",
    "src_pts = np.float32([ kp1[m.queryIdx].pt for m in good ]).reshape(-1,1,2)\n",
    "dst_pts = np.float32([ kp2[m.trainIdx].pt for m in good ]).reshape(-1,1,2)\n",
    "\n",
    "homography_matrix, cv_mask = cv.findHomography(src_pts, dst_pts, cv.RANSAC, 1)\n",
    "\n",
    "print(\"OpenCV H:\", homography_matrix)\n",
    "print(\"OpenCV Num Inliers:\", np.sum(cv_mask))"
   ]
  },
  {
   "cell_type": "markdown",
   "metadata": {},
   "source": [
    "## HSolo Find homography matrix"
   ]
  },
  {
   "cell_type": "code",
   "execution_count": null,
   "metadata": {
    "scrolled": true
   },
   "outputs": [],
   "source": [
    "# Find homography (HSolo)\n",
    "N = len(good)\n",
    "pt1 = np.zeros((N, 2))\n",
    "pt2 = np.zeros((N, 2))\n",
    "ori1 = np.zeros((N, 1))\n",
    "ori2 = np.zeros((N, 1))\n",
    "q1 = np.zeros((N, 1))\n",
    "q2 = np.zeros((N, 1))\n",
    "\n",
    "# Copy over keypoint data \n",
    "for ii in range(len(good)):\n",
    "    \n",
    "    m = good[ii]\n",
    "    ori1[ii] = np.radians(kp1[m.queryIdx].angle)\n",
    "    ori2[ii] = np.radians(kp2[m.trainIdx].angle)\n",
    "\n",
    "    q1[ii] = kp1[m.queryIdx].size\n",
    "    q2[ii] = kp2[m.trainIdx].size\n",
    "\n",
    "    pt1[ii] = kp1[m.queryIdx].pt\n",
    "    pt2[ii] = kp2[m.trainIdx].pt\n",
    "    \n",
    "# Find HSolo homography\n",
    "err_thresh = 2\n",
    "H = pyhsolo.findHomography( x1y1=pt1, x2y2=pt2, \n",
    "                    scales1=q1, scales2 = q2, \n",
    "                    oris1=ori1, oris2=ori2, \n",
    "                    threshold=err_thresh, \n",
    "                    refine_solution=True,\n",
    "                    run_inner_ransac_thresh = 30,\n",
    "                    conf=0.999\n",
    "                )\n",
    "\n",
    "homography_matrix_hsolo = H[0]\n",
    "matches_mask_hsolo = H[1].tolist()\n",
    "\n",
    "print(\"HSolo H:\", homography_matrix_hsolo)\n",
    "print(\"HSolo Num Inliers:\", np.sum(matches_mask_hsolo))"
   ]
  },
  {
   "cell_type": "markdown",
   "metadata": {},
   "source": [
    "## Draw matches OpenCV vs. HSolo"
   ]
  },
  {
   "cell_type": "code",
   "execution_count": null,
   "metadata": {},
   "outputs": [],
   "source": [
    "# Draw OpenCV matches\n",
    "draw_params = dict(matchColor = (0,255,0), # draw matches in green color\n",
    "                   singlePointColor = None,\n",
    "                   matchesMask = cv_mask.flatten(), # draw only inliers\n",
    "                   flags = 2)\n",
    "img_matched = cv.drawMatches(img1,kp1,img2,kp2,good,None,**draw_params)"
   ]
  },
  {
   "cell_type": "code",
   "execution_count": null,
   "metadata": {},
   "outputs": [],
   "source": [
    "# Draw HSolo matches\n",
    "draw_params = dict(matchColor = (255,0,0), # draw matches in blue color\n",
    "                   singlePointColor = None,\n",
    "                   matchesMask = np.array(matches_mask_hsolo).astype(np.uint8), # draw only inliers\n",
    "                   flags = 2)\n",
    "img_matched_hsolo = cv.drawMatches(img1,kp1,img2,kp2,good,None,**draw_params)"
   ]
  },
  {
   "cell_type": "code",
   "execution_count": null,
   "metadata": {},
   "outputs": [],
   "source": [
    "# Draw OpenCV & HSolo images for comparison\n",
    "plt.figure(figsize=(15,15))\n",
    "\n",
    "plt.imshow(img_matched[...,::-1])\n",
    "plt.title('OpenCV findHomography Matched inliers - Approximate 4% Inlier Rate')\n",
    "\n",
    "plt.show()\n",
    "\n",
    "plt.figure(figsize=(15,15))\n",
    "\n",
    "plt.imshow(img_matched_hsolo[...,::-1])\n",
    "plt.title('HSolo Matched inliers - Approximate 4% Inlier Rate')\n",
    "\n",
    "plt.show()"
   ]
  }
 ],
 "metadata": {
  "kernelspec": {
   "display_name": "Python [conda env:hsolo-dev] *",
   "language": "python",
   "name": "conda-env-hsolo-dev-py"
  },
  "language_info": {
   "codemirror_mode": {
    "name": "ipython",
    "version": 3
   },
   "file_extension": ".py",
   "mimetype": "text/x-python",
   "name": "python",
   "nbconvert_exporter": "python",
   "pygments_lexer": "ipython3",
   "version": "3.10.4"
  }
 },
 "nbformat": 4,
 "nbformat_minor": 4
}
